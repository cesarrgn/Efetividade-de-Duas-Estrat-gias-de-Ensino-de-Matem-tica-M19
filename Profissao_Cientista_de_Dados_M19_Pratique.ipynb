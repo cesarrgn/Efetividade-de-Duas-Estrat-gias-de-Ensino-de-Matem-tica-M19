{
 "cells": [
  {
   "cell_type": "markdown",
   "metadata": {
    "id": "3Um_onCPZEf0"
   },
   "source": [
    "# **MÓDULO 19**\n",
    "# Exercício: Estatística Aplicada"
   ]
  },
  {
   "cell_type": "markdown",
   "metadata": {
    "id": "1m0YhZXwZL1q"
   },
   "source": [
    "**Efetividade de Duas Estratégias de Ensino**\n",
    "\n",
    "Imagine que uma escola esteja avaliando a eficácia de duas estratégias de ensino de matemática para alunos do ensino médio. Eles querem determinar se há uma diferença significativa no desempenho médio dos alunos entre as duas estratégias."
   ]
  },
  {
   "cell_type": "markdown",
   "metadata": {
    "id": "lYK3r7d8ZdUy"
   },
   "source": [
    "# **Hipóteses:**\n",
    "\n",
    "* Hipótese nula (H0): A média das notas dos alunos na estratégia A é igual à média das notas dos alunos na estratégia B.\n",
    "* Hipótese alternativa (H1): A média das notas na Estratégia B é maior do que a média das notas na Estratégia A."
   ]
  },
  {
   "cell_type": "markdown",
   "metadata": {
    "id": "aIXDvxeRZtuK"
   },
   "source": [
    "# **Dados:**\n",
    "\n",
    "* Amostra da Estratégia A: Notas de 50 alunos que receberam a Estratégia A.\n",
    "* Amostra da Estratégia B: Notas de 50 alunos que receberam a Estratégia B."
   ]
  },
  {
   "cell_type": "markdown",
   "metadata": {
    "id": "Awvgd4oAZ3Y7"
   },
   "source": [
    "Usaremos um teste Z para comparar as médias das notas entre as duas amostras."
   ]
  },
  {
   "cell_type": "markdown",
   "metadata": {
    "id": "qyJViOFDZ8Y_"
   },
   "source": [
    "Se o p-valor do teste Z for menor que um nível de significância pré-determinado (por exemplo, α = 0.05), rejeitamos a hipótese nula e concluímos que há uma diferença significativa nas médias das notas entre as duas estratégias de ensino."
   ]
  },
  {
   "cell_type": "code",
   "execution_count": null,
   "metadata": {
    "id": "UW8wHoiGY9sb"
   },
   "outputs": [],
   "source": [
    "import numpy as np\n",
    "import matplotlib.pyplot as plt\n",
    "from scipy import stats"
   ]
  },
  {
   "cell_type": "markdown",
   "metadata": {
    "id": "D6tUtiABaDWI"
   },
   "source": [
    "Os dados são criados a seguir:"
   ]
  },
  {
   "cell_type": "code",
   "execution_count": null,
   "metadata": {
    "id": "F9LLw8rsaFIS",
    "outputId": "e9f9af36-9817-4398-8fcd-fba14f32f1cf"
   },
   "outputs": [
    {
     "name": "stdout",
     "output_type": "stream",
     "text": [
      "Notas da Estratégia A: [87.64052346 74.00157208 79.78737984 92.40893199 88.6755799 ]\n",
      "Notas da Estratégia B: [64.25440127 79.64282997 68.87033835 60.83241379 74.66181326]\n"
     ]
    }
   ],
   "source": [
    "# Definindo médias e desvios padrão para as notas nas duas estratégias\n",
    "media_estrategia_A = 70\n",
    "desvio_padrao_estrategia_A = 10\n",
    "\n",
    "media_estrategia_B = 75\n",
    "desvio_padrao_estrategia_B = 12\n",
    "\n",
    "# Gerando as amostras de notas para cada estratégia de ensino da nossa base\n",
    "np.random.seed(0)  # Para garantir a reprodutibilidade dos resultados\n",
    "amostra_estrategia_A = np.random.normal(loc=media_estrategia_A, scale=desvio_padrao_estrategia_A, size=50)\n",
    "amostra_estrategia_B = np.random.normal(loc=media_estrategia_B, scale=desvio_padrao_estrategia_B, size=50)\n",
    "\n",
    "print(\"Notas da Estratégia A:\", amostra_estrategia_A[:5])\n",
    "print(\"Notas da Estratégia B:\", amostra_estrategia_B[:5])"
   ]
  },
  {
   "cell_type": "markdown",
   "metadata": {
    "id": "KGpDI3hKaUN8"
   },
   "source": [
    "# 1) De acordo com as informações analisadas o nosso teste é unilateral á direita, esquerda ou bicaudal? Justifique.\n",
    "\n",
    "\n"
   ]
  },
  {
   "cell_type": "code",
   "execution_count": null,
   "metadata": {
    "id": "AeImcp9pbXUb"
   },
   "outputs": [],
   "source": [
    "# O teste é unilateral à direita. \n",
    "# A justificativa é que a hipótese alternativa (H1) afirma que a média das notas na Estratégia B é maior do que na Estratégia A.\n",
    "# Um teste unilateral à direita é apropriado quando se deseja verificar se a média de uma população é significativamente maior que a de outra."
   ]
  },
  {
   "cell_type": "markdown",
   "metadata": {
    "id": "xZ5V8EwfbZES"
   },
   "source": [
    "# 2) Calcule as médias para as duas amostragens e as variâncias. Quais insights você pode retirar comparando os dados?"
   ]
  },
  {
   "cell_type": "code",
   "execution_count": 3,
   "metadata": {
    "id": "vwCW7UXkbl-d"
   },
   "outputs": [
    {
     "name": "stdout",
     "output_type": "stream",
     "text": [
      "Média da Estratégia A: 71.41\n",
      "Média da Estratégia B: 74.75\n",
      "Variância da Estratégia A: 129.27\n",
      "Variância da Estratégia B: 110.47\n"
     ]
    }
   ],
   "source": [
    "# Importando bibliotecas necessárias\n",
    "import numpy as np\n",
    "\n",
    "# Definindo médias e desvios padrão para as notas nas duas estratégias\n",
    "media_estrategia_A = 70\n",
    "desvio_padrao_estrategia_A = 10\n",
    "\n",
    "media_estrategia_B = 75\n",
    "desvio_padrao_estrategia_B = 12\n",
    "\n",
    "# Gerando as amostras de notas para cada estratégia de ensino\n",
    "np.random.seed(0)  # Para garantir a reprodutibilidade dos resultados\n",
    "amostra_estrategia_A = np.random.normal(loc=media_estrategia_A, scale=desvio_padrao_estrategia_A, size=50)\n",
    "amostra_estrategia_B = np.random.normal(loc=media_estrategia_B, scale=desvio_padrao_estrategia_B, size=50)\n",
    "\n",
    "# Calculando médias e variâncias\n",
    "media_amostra_A = np.mean(amostra_estrategia_A)\n",
    "media_amostra_B = np.mean(amostra_estrategia_B)\n",
    "\n",
    "variancia_amostra_A = np.var(amostra_estrategia_A, ddof=1)\n",
    "variancia_amostra_B = np.var(amostra_estrategia_B, ddof=1)\n",
    "\n",
    "# Imprimindo os resultados\n",
    "print(f\"Média da Estratégia A: {media_amostra_A:.2f}\")\n",
    "print(f\"Média da Estratégia B: {media_amostra_B:.2f}\")\n",
    "print(f\"Variância da Estratégia A: {variancia_amostra_A:.2f}\")\n",
    "print(f\"Variância da Estratégia B: {variancia_amostra_B:.2f}\")\n",
    "\n"
   ]
  },
  {
   "cell_type": "code",
   "execution_count": null,
   "metadata": {},
   "outputs": [],
   "source": [
    "# Insights:\n",
    "\n",
    "# A média da Estratégia B é maior, confirmando uma diferença inicial esperada.\n",
    "# A variância da Estratégia B é maior, indicando que as notas apresentam maior dispersão em relação à média."
   ]
  },
  {
   "cell_type": "markdown",
   "metadata": {
    "id": "8_skpl7RcAE5"
   },
   "source": [
    "# 3) Imprima os resultados da estatística do teste Z, p value e indique se rejeitaremos ou não a hipótese nula. Justifique sua resposta."
   ]
  },
  {
   "cell_type": "code",
   "execution_count": 6,
   "metadata": {
    "id": "n88wuGCjcNCq"
   },
   "outputs": [
    {
     "name": "stdout",
     "output_type": "stream",
     "text": [
      "Estatística Z: 1.53\n",
      "P-valor: 0.0634\n",
      "Não rejeitamos a hipótese nula.\n"
     ]
    }
   ],
   "source": [
    "import numpy as np\n",
    "from scipy import stats\n",
    "\n",
    "# Calculando o valor do teste Z\n",
    "n_A = len(amostra_estrategia_A)\n",
    "n_B = len(amostra_estrategia_B)\n",
    "\n",
    "# Diferença das médias\n",
    "diferenca_medias = media_amostra_B - media_amostra_A\n",
    "\n",
    "# Variância combinada\n",
    "variancia_comb = (variancia_amostra_A / n_A) + (variancia_amostra_B / n_B)\n",
    "\n",
    "# Estatística Z\n",
    "z_score = diferenca_medias / np.sqrt(variancia_comb)\n",
    "\n",
    "# p-value para teste unilateral\n",
    "p_value = 1 - stats.norm.cdf(z_score)\n",
    "\n",
    "print(f\"Estatística Z: {z_score:.2f}\")\n",
    "print(f\"P-valor: {p_value:.4f}\")\n",
    "\n",
    "# Decisão\n",
    "alpha = 0.05\n",
    "if p_value < alpha:\n",
    "    print(\"Rejeitamos a hipótese nula.\")\n",
    "else:\n",
    "    print(\"Não rejeitamos a hipótese nula.\")\n"
   ]
  },
  {
   "cell_type": "code",
   "execution_count": null,
   "metadata": {},
   "outputs": [],
   "source": [
    "# Justificativa:\n",
    "# Rejeitamos a hipótese nula se o p-valor for menor que 0.05. Isso indicaria que há evidências estatísticas de que a Estratégia B é mais eficaz que a Estratégia A.\n",
    "\n"
   ]
  },
  {
   "cell_type": "markdown",
   "metadata": {
    "id": "IDR8T-bQc3i2"
   },
   "source": [
    "# 4) Para finalizar monte o gráfico da distribuição da estatística do nosso teste Z e explique o que pode ser observado através dele."
   ]
  },
  {
   "cell_type": "code",
   "execution_count": 7,
   "metadata": {
    "id": "My8VY4QmdEWc"
   },
   "outputs": [
    {
     "data": {
      "image/png": "[encoded data removed]",
      "text/plain": [
       "<Figure size 800x500 with 1 Axes>"
      ]
     },
     "metadata": {},
     "output_type": "display_data"
    }
   ],
   "source": [
    "# Gráfico da distribuição da estatística Z\n",
    "x = np.linspace(-3, 3, 1000)\n",
    "y = stats.norm.pdf(x)\n",
    "\n",
    "plt.figure(figsize=(8, 5))\n",
    "plt.plot(x, y, label=\"Distribuição Normal Padrão\")\n",
    "plt.axvline(z_score, color='red', linestyle='--', label=f\"Estatística Z = {z_score:.2f}\")\n",
    "plt.fill_between(x, y, where=(x >= stats.norm.ppf(1 - alpha)), color='red', alpha=0.3, label=\"Região Crítica\")\n",
    "plt.title(\"Distribuição da Estatística Z\")\n",
    "plt.xlabel(\"Z\")\n",
    "plt.ylabel(\"Densidade de Probabilidade\")\n",
    "plt.legend()\n",
    "plt.grid()\n",
    "plt.show()\n"
   ]
  },
  {
   "cell_type": "code",
   "execution_count": 9,
   "metadata": {},
   "outputs": [],
   "source": [
    "#Explicação:\n",
    "\n",
    "# A curva representa a distribuição normal padrão.\n",
    "# A linha vermelha indica o valor da estatística Z calculada.\n",
    "# A área sombreada em vermelho corresponde à região crítica (p ≤ 0.05) para rejeição da hipótese nula.\n",
    "# Se a estatística Z estiver na região crítica, rejeitamos H0."
   ]
  },
  {
   "cell_type": "code",
   "execution_count": null,
   "metadata": {},
   "outputs": [],
   "source": []
  }
 ],
 "metadata": {
  "colab": {
   "provenance": []
  },
  "kernelspec": {
   "display_name": "Python 3 (ipykernel)",
   "language": "python",
   "name": "python3"
  },
  "language_info": {
   "codemirror_mode": {
    "name": "ipython",
    "version": 3
   },
   "file_extension": ".py",
   "mimetype": "text/x-python",
   "name": "python",
   "nbconvert_exporter": "python",
   "pygments_lexer": "ipython3",
   "version": "3.12.4"
  }
 },
 "nbformat": 4,
 "nbformat_minor": 4
}
